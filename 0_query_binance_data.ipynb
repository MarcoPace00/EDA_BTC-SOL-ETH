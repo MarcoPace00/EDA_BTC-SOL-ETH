{
 "cells": [
  {
   "cell_type": "markdown",
   "metadata": {},
   "source": [
    "Query of a week of 1m binance data of the spot BTC/USDC, SOL/USDC, ETH/USDC"
   ]
  },
  {
   "cell_type": "code",
   "execution_count": 99,
   "metadata": {},
   "outputs": [],
   "source": [
    "pair_list = [\"BTCUSDT\",\"SOLUSDT\",\"ETHUSDT\"]"
   ]
  },
  {
   "cell_type": "markdown",
   "metadata": {},
   "source": [
    "### dataset 0"
   ]
  },
  {
   "cell_type": "code",
   "execution_count": null,
   "metadata": {},
   "outputs": [
    {
     "name": "stdout",
     "output_type": "stream",
     "text": [
      "Downloading 1m ETHUSDT ohlc-data ... Done.\n",
      "Downloading 1m BTCUSDT ohlc-data ... Done.\n",
      "Downloading 1m SOLUSDT ohlc-data ... Done.\n"
     ]
    }
   ],
   "source": [
    "# collect data into dataframe from start date to end date\n",
    "# https://stackoverflow.com/questions/51358147/fetch-candlestick-kline-data-from-binance-api-using-python-preferably-requests\n",
    "\n",
    "import requests\n",
    "import datetime\n",
    "import pandas as pd\n",
    "import numpy as np\n",
    "\n",
    "def get_binance_data_by_requests(ticker, interval, start='2020-01-01 00:00:00', end='2023-07-01 00:00:00',timezone_shift=2):\n",
    "  \"\"\"\n",
    "  interval: str tick interval - 4h/1h/1d ...\n",
    "  \"\"\"\n",
    "  columns = ['open_time','open', 'high', 'low', 'close', 'volume','close_time', 'qav','num_trades','taker_base_vol','taker_quote_vol', 'ignore']\n",
    "  usecols=['open', 'high', 'low', 'close', 'volume', 'qav','num_trades','taker_base_vol','taker_quote_vol']\n",
    "  start = int(datetime.datetime.timestamp(pd.to_datetime(start))*1000)\n",
    "  end_u = int(datetime.datetime.timestamp(pd.to_datetime(end))*1000)\n",
    "  df = pd.DataFrame()\n",
    "  print(f'Downloading {interval} {ticker} ohlc-data ...', end=' ')\n",
    "  while True:\n",
    "    url = f'https://www.binance.com/api/v3/klines?symbol={ticker}&interval={interval}&limit=1000&startTime={start}#&endTime={end_u}'\n",
    "    data = pd.DataFrame(requests.get(url, headers={'Cache-Control': 'no-cache', \"Pragma\": \"no-cache\"}).json(), columns=columns, dtype=np.float64)    \n",
    "    start = int(data.open_time.tolist()[-1])+1\n",
    "    data.index = [(pd.to_datetime(x, unit='ms') + pd.Timedelta(hours=timezone_shift)).strftime('%Y-%m-%d %H:%M:%S')  for x in data.open_time]\n",
    "    # data.index = [pd.to_datetime(x, unit='ms').strftime('%Y-%m-%d %H:%M:%S')  for x in data.open_time]\n",
    "    data = data[usecols]\n",
    "    df = pd.concat([df, data], axis=0)\n",
    "    if end in data.index.tolist():\n",
    "      break\n",
    "  print('Done.')\n",
    "  df.index = pd.to_datetime(df.index)\n",
    "  df = df.loc[:end]\n",
    "  return df#[['open', 'high', 'low', 'close']]\n",
    "\n",
    "eth = get_binance_data_by_requests(ticker='ETHUSDT', interval='1m', start='2025-04-14 00:00:00', end='2025-04-22 00:00:00')\n",
    "btc = get_binance_data_by_requests(ticker='BTCUSDT', interval='1m', start='2025-04-14 00:00:00', end='2025-04-22 00:00:00')\n",
    "sol = get_binance_data_by_requests(ticker='SOLUSDT', interval='1m', start='2025-04-14 00:00:00', end='2025-04-22 00:00:00')\n"
   ]
  },
  {
   "cell_type": "code",
   "execution_count": 108,
   "metadata": {},
   "outputs": [
    {
     "data": {
      "text/html": [
       "<div>\n",
       "<style scoped>\n",
       "    .dataframe tbody tr th:only-of-type {\n",
       "        vertical-align: middle;\n",
       "    }\n",
       "\n",
       "    .dataframe tbody tr th {\n",
       "        vertical-align: top;\n",
       "    }\n",
       "\n",
       "    .dataframe thead th {\n",
       "        text-align: right;\n",
       "    }\n",
       "</style>\n",
       "<table border=\"1\" class=\"dataframe\">\n",
       "  <thead>\n",
       "    <tr style=\"text-align: right;\">\n",
       "      <th></th>\n",
       "      <th>open</th>\n",
       "      <th>high</th>\n",
       "      <th>low</th>\n",
       "      <th>close</th>\n",
       "      <th>volume</th>\n",
       "      <th>qav</th>\n",
       "      <th>num_trades</th>\n",
       "      <th>taker_base_vol</th>\n",
       "      <th>taker_quote_vol</th>\n",
       "      <th>PAIR</th>\n",
       "    </tr>\n",
       "  </thead>\n",
       "  <tbody>\n",
       "    <tr>\n",
       "      <th>2025-04-14 00:00:00</th>\n",
       "      <td>1593.83</td>\n",
       "      <td>1595.51</td>\n",
       "      <td>1592.00</td>\n",
       "      <td>1592.82</td>\n",
       "      <td>1874.9241</td>\n",
       "      <td>2.988697e+06</td>\n",
       "      <td>5216.0</td>\n",
       "      <td>781.9320</td>\n",
       "      <td>1.246524e+06</td>\n",
       "      <td>ETHUSDT</td>\n",
       "    </tr>\n",
       "    <tr>\n",
       "      <th>2025-04-14 00:01:00</th>\n",
       "      <td>1592.82</td>\n",
       "      <td>1594.14</td>\n",
       "      <td>1589.04</td>\n",
       "      <td>1590.43</td>\n",
       "      <td>401.5810</td>\n",
       "      <td>6.389502e+05</td>\n",
       "      <td>2785.0</td>\n",
       "      <td>140.2546</td>\n",
       "      <td>2.231386e+05</td>\n",
       "      <td>ETHUSDT</td>\n",
       "    </tr>\n",
       "    <tr>\n",
       "      <th>2025-04-14 00:02:00</th>\n",
       "      <td>1590.43</td>\n",
       "      <td>1592.24</td>\n",
       "      <td>1590.20</td>\n",
       "      <td>1592.23</td>\n",
       "      <td>460.0292</td>\n",
       "      <td>7.320947e+05</td>\n",
       "      <td>3187.0</td>\n",
       "      <td>312.7815</td>\n",
       "      <td>4.977683e+05</td>\n",
       "      <td>ETHUSDT</td>\n",
       "    </tr>\n",
       "  </tbody>\n",
       "</table>\n",
       "</div>"
      ],
      "text/plain": [
       "                        open     high      low    close     volume  \\\n",
       "2025-04-14 00:00:00  1593.83  1595.51  1592.00  1592.82  1874.9241   \n",
       "2025-04-14 00:01:00  1592.82  1594.14  1589.04  1590.43   401.5810   \n",
       "2025-04-14 00:02:00  1590.43  1592.24  1590.20  1592.23   460.0292   \n",
       "\n",
       "                              qav  num_trades  taker_base_vol  \\\n",
       "2025-04-14 00:00:00  2.988697e+06      5216.0        781.9320   \n",
       "2025-04-14 00:01:00  6.389502e+05      2785.0        140.2546   \n",
       "2025-04-14 00:02:00  7.320947e+05      3187.0        312.7815   \n",
       "\n",
       "                     taker_quote_vol     PAIR  \n",
       "2025-04-14 00:00:00     1.246524e+06  ETHUSDT  \n",
       "2025-04-14 00:01:00     2.231386e+05  ETHUSDT  \n",
       "2025-04-14 00:02:00     4.977683e+05  ETHUSDT  "
      ]
     },
     "execution_count": 108,
     "metadata": {},
     "output_type": "execute_result"
    }
   ],
   "source": [
    "eth.head(3)"
   ]
  },
  {
   "cell_type": "code",
   "execution_count": null,
   "metadata": {},
   "outputs": [],
   "source": [
    "btc['PAIR'] = \"BTCUSDT\"\n",
    "sol['PAIR'] = \"SOLUSDT\"\n",
    "eth['PAIR'] = \"ETHUSDT\""
   ]
  },
  {
   "cell_type": "code",
   "execution_count": 97,
   "metadata": {},
   "outputs": [],
   "source": [
    "out_df = pd.concat([btc,sol,eth])"
   ]
  },
  {
   "cell_type": "code",
   "execution_count": 107,
   "metadata": {},
   "outputs": [],
   "source": [
    "# out_df[out_df.PAIR == \"BTCUSDT\"].head()\n",
    "# out_df[out_df.PAIR == \"ETHUSDT\"].head()\n",
    "# out_df[out_df.PAIR == \"SOLUSDT\"].head()"
   ]
  },
  {
   "cell_type": "markdown",
   "metadata": {},
   "source": [
    "Conversion to parquet"
   ]
  },
  {
   "cell_type": "code",
   "execution_count": 109,
   "metadata": {},
   "outputs": [],
   "source": [
    "out_df.to_parquet(\"data/dataset_0.parquet\")"
   ]
  },
  {
   "cell_type": "markdown",
   "metadata": {},
   "source": [
    "## Dataset 1"
   ]
  },
  {
   "cell_type": "code",
   "execution_count": null,
   "metadata": {},
   "outputs": [],
   "source": [
    "# collect data into dataframe from start date to end date\n",
    "# https://stackoverflow.com/questions/51358147/fetch-candlestick-kline-data-from-binance-api-using-python-preferably-requests\n",
    "\n",
    "import requests\n",
    "import datetime\n",
    "import pandas as pd\n",
    "import numpy as np\n",
    "\n",
    "def get_binance_data_by_requests(ticker, interval, start='2020-01-01 00:00:00', end='2023-07-01 00:00:00',timezone_shift=2):\n",
    "  \"\"\"\n",
    "  interval: str tick interval - 4h/1h/1d ...\n",
    "  \"\"\"\n",
    "  columns = ['open_time','open', 'high', 'low', 'close', 'volume','close_time', 'qav','num_trades','taker_base_vol','taker_quote_vol', 'ignore']\n",
    "  usecols=['open', 'high', 'low', 'close', 'volume', 'qav','num_trades','taker_base_vol','taker_quote_vol']\n",
    "  start = int(datetime.datetime.timestamp(pd.to_datetime(start))*1000)\n",
    "  end_u = int(datetime.datetime.timestamp(pd.to_datetime(end))*1000)\n",
    "  df = pd.DataFrame()\n",
    "  print(f'Downloading {interval} {ticker} ohlc-data ...', end=' ')\n",
    "  while True:\n",
    "    url = f'https://www.binance.com/api/v3/klines?symbol={ticker}&interval={interval}&limit=1000&startTime={start}#&endTime={end_u}'\n",
    "    data = pd.DataFrame(requests.get(url, headers={'Cache-Control': 'no-cache', \"Pragma\": \"no-cache\"}).json(), columns=columns, dtype=np.float64)    \n",
    "    start = int(data.open_time.tolist()[-1])+1\n",
    "    data.index = [(pd.to_datetime(x, unit='ms') + pd.Timedelta(hours=timezone_shift)).strftime('%Y-%m-%d %H:%M:%S')  for x in data.open_time]\n",
    "    # data.index = [pd.to_datetime(x, unit='ms').strftime('%Y-%m-%d %H:%M:%S')  for x in data.open_time]\n",
    "    data = data[usecols]\n",
    "    df = pd.concat([df, data], axis=0)\n",
    "    if end in data.index.tolist():\n",
    "      break\n",
    "  print('Done.')\n",
    "  df.index = pd.to_datetime(df.index)\n",
    "  df = df.loc[:end]\n",
    "  return df#[['open', 'high', 'low', 'close']]\n",
    "\n",
    "eth = get_binance_data_by_requests(ticker='ETHUSDT', interval='1s', start='2025-04-14 00:00:00', end='2025-04-22 00:00:00')\n",
    "btc = get_binance_data_by_requests(ticker='BTCUSDT', interval='1s', start='2025-04-14 00:00:00', end='2025-04-22 00:00:00')\n",
    "sol = get_binance_data_by_requests(ticker='SOLUSDT', interval='1s', start='2025-04-14 00:00:00', end='2025-04-22 00:00:00')"
   ]
  },
  {
   "cell_type": "code",
   "execution_count": null,
   "metadata": {},
   "outputs": [],
   "source": [
    "btc['PAIR'] = \"BTCUSDT\"\n",
    "sol['PAIR'] = \"SOLUSDT\"\n",
    "eth['PAIR'] = \"ETHUSDT\"\n",
    "\n",
    "out_df = pd.concat([btc,sol,eth])\n",
    "\n",
    "out_df.to_parquet(\"data/dataset_1.parquet\")"
   ]
  }
 ],
 "metadata": {
  "kernelspec": {
   "display_name": "base",
   "language": "python",
   "name": "python3"
  },
  "language_info": {
   "codemirror_mode": {
    "name": "ipython",
    "version": 3
   },
   "file_extension": ".py",
   "mimetype": "text/x-python",
   "name": "python",
   "nbconvert_exporter": "python",
   "pygments_lexer": "ipython3",
   "version": "3.12.4"
  }
 },
 "nbformat": 4,
 "nbformat_minor": 2
}
