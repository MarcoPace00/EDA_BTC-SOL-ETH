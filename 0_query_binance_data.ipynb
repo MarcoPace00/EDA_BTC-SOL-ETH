{
 "cells": [
  {
   "cell_type": "markdown",
   "metadata": {},
   "source": [
    "Query of a week of 1m binance data of the spot BTC/USDC, SOL/USDC, ETH/USDC"
   ]
  },
  {
   "cell_type": "code",
   "execution_count": null,
   "metadata": {},
   "outputs": [],
   "source": [
    "pair_list = [\"BTCUSDT\",\"SOLUSDT\",\"ETHUSDT\"]"
   ]
  },
  {
   "cell_type": "markdown",
   "metadata": {},
   "source": [
    "### dataset 0"
   ]
  },
  {
   "cell_type": "code",
   "execution_count": null,
   "metadata": {},
   "outputs": [],
   "source": [
    "# collect data into dataframe from start date to end date\n",
    "# https://stackoverflow.com/questions/51358147/fetch-candlestick-kline-data-from-binance-api-using-python-preferably-requests\n",
    "\n",
    "import requests\n",
    "import datetime\n",
    "import pandas as pd\n",
    "import numpy as np\n",
    "\n",
    "def get_binance_data_by_requests(ticker, interval, start='2020-01-01 00:00:00', end='2023-07-01 00:00:00',timezone_shift=2):\n",
    "  \"\"\"\n",
    "  interval: str tick interval - 4h/1h/1d ...\n",
    "  \"\"\"\n",
    "  columns = ['open_time','open', 'high', 'low', 'close', 'volume','close_time', 'qav','num_trades','taker_base_vol','taker_quote_vol', 'ignore']\n",
    "  usecols=['open', 'high', 'low', 'close', 'volume', 'qav','num_trades','taker_base_vol','taker_quote_vol']\n",
    "  start = int(datetime.datetime.timestamp(pd.to_datetime(start))*1000)\n",
    "  end_u = int(datetime.datetime.timestamp(pd.to_datetime(end))*1000)\n",
    "  df = pd.DataFrame()\n",
    "  print(f'Downloading {interval} {ticker} ohlc-data ...', end=' ')\n",
    "  while True:\n",
    "    url = f'https://www.binance.com/api/v3/klines?symbol={ticker}&interval={interval}&limit=1000&startTime={start}#&endTime={end_u}'\n",
    "    data = pd.DataFrame(requests.get(url, headers={'Cache-Control': 'no-cache', \"Pragma\": \"no-cache\"}).json(), columns=columns, dtype=np.float64)    \n",
    "    start = int(data.open_time.tolist()[-1])+1\n",
    "    data.index = [(pd.to_datetime(x, unit='ms') + pd.Timedelta(hours=timezone_shift)).strftime('%Y-%m-%d %H:%M:%S')  for x in data.open_time]\n",
    "    # data.index = [pd.to_datetime(x, unit='ms').strftime('%Y-%m-%d %H:%M:%S')  for x in data.open_time]\n",
    "    data = data[usecols]\n",
    "    df = pd.concat([df, data], axis=0)\n",
    "    if end in data.index.tolist():\n",
    "      break\n",
    "  print('Done.')\n",
    "  df.index = pd.to_datetime(df.index)\n",
    "  df = df.loc[:end]\n",
    "  return df#[['open', 'high', 'low', 'close']]\n",
    "\n",
    "eth = get_binance_data_by_requests(ticker='ETHUSDT', interval='1m', start='2025-04-14 00:00:00', end='2025-04-22 00:00:00')\n",
    "btc = get_binance_data_by_requests(ticker='BTCUSDT', interval='1m', start='2025-04-14 00:00:00', end='2025-04-22 00:00:00')\n",
    "sol = get_binance_data_by_requests(ticker='SOLUSDT', interval='1m', start='2025-04-14 00:00:00', end='2025-04-22 00:00:00')\n"
   ]
  },
  {
   "cell_type": "code",
   "execution_count": null,
   "metadata": {},
   "outputs": [],
   "source": [
    "eth.head(3)"
   ]
  },
  {
   "cell_type": "code",
   "execution_count": null,
   "metadata": {},
   "outputs": [],
   "source": [
    "btc['PAIR'] = \"BTCUSDT\"\n",
    "sol['PAIR'] = \"SOLUSDT\"\n",
    "eth['PAIR'] = \"ETHUSDT\""
   ]
  },
  {
   "cell_type": "code",
   "execution_count": null,
   "metadata": {},
   "outputs": [],
   "source": [
    "out_df = pd.concat([btc,sol,eth])"
   ]
  },
  {
   "cell_type": "code",
   "execution_count": null,
   "metadata": {},
   "outputs": [],
   "source": [
    "# out_df[out_df.PAIR == \"BTCUSDT\"].head()\n",
    "# out_df[out_df.PAIR == \"ETHUSDT\"].head()\n",
    "# out_df[out_df.PAIR == \"SOLUSDT\"].head()"
   ]
  },
  {
   "cell_type": "markdown",
   "metadata": {},
   "source": [
    "Conversion to parquet"
   ]
  },
  {
   "cell_type": "code",
   "execution_count": null,
   "metadata": {},
   "outputs": [],
   "source": [
    "out_df.to_parquet(\"data/dataset_0.parquet\")"
   ]
  },
  {
   "cell_type": "markdown",
   "metadata": {},
   "source": [
    "## Dataset 1"
   ]
  },
  {
   "cell_type": "code",
   "execution_count": 2,
   "metadata": {},
   "outputs": [
    {
     "name": "stdout",
     "output_type": "stream",
     "text": [
      "Downloading 1s ETHUSDT ohlc-data ... Done.\n",
      "Downloading 1s BTCUSDT ohlc-data ... Done.\n",
      "Downloading 1s SOLUSDT ohlc-data ... Done.\n"
     ]
    }
   ],
   "source": [
    "# collect data into dataframe from start date to end date\n",
    "# https://stackoverflow.com/questions/51358147/fetch-candlestick-kline-data-from-binance-api-using-python-preferably-requests\n",
    "\n",
    "import requests\n",
    "import datetime\n",
    "import pandas as pd\n",
    "import numpy as np\n",
    "\n",
    "def get_binance_data_by_requests(ticker, interval, start='2020-01-01 00:00:00', end='2023-07-01 00:00:00',timezone_shift=2):\n",
    "  \"\"\"\n",
    "  interval: str tick interval - 4h/1h/1d ...\n",
    "  \"\"\"\n",
    "  columns = ['open_time','open', 'high', 'low', 'close', 'volume','close_time', 'qav','num_trades','taker_base_vol','taker_quote_vol', 'ignore']\n",
    "  usecols = ['open', 'high', 'low', 'close', 'volume', 'qav','num_trades','taker_base_vol','taker_quote_vol']\n",
    "  start = int(datetime.datetime.timestamp(pd.to_datetime(start))*1000)\n",
    "  end_u = int(datetime.datetime.timestamp(pd.to_datetime(end))*1000)\n",
    "  df = pd.DataFrame()\n",
    "  print(f'Downloading {interval} {ticker} ohlc-data ...', end=' ')\n",
    "  while True:\n",
    "    url = f'https://www.binance.com/api/v3/klines?symbol={ticker}&interval={interval}&limit=1000&startTime={start}#&endTime={end_u}'\n",
    "    data = pd.DataFrame(requests.get(url, headers={'Cache-Control': 'no-cache', \"Pragma\": \"no-cache\"}).json(), columns=columns, dtype=np.float64)    \n",
    "    start = int(data.open_time.tolist()[-1])+1\n",
    "    data.index = [(pd.to_datetime(x, unit='ms') + pd.Timedelta(hours=timezone_shift)).strftime('%Y-%m-%d %H:%M:%S')  for x in data.open_time]\n",
    "    # data.index = [pd.to_datetime(x, unit='ms').strftime('%Y-%m-%d %H:%M:%S')  for x in data.open_time]\n",
    "    data = data[usecols]\n",
    "    df = pd.concat([df, data], axis=0)\n",
    "    if end in data.index.tolist():\n",
    "      break\n",
    "  print('Done.')\n",
    "  df.index = pd.to_datetime(df.index)\n",
    "  df = df.loc[:end]\n",
    "  return df#[['open', 'high', 'low', 'close']]\n",
    "\n",
    "eth = get_binance_data_by_requests(ticker='ETHUSDT', interval='1s', start='2025-04-14 00:00:00', end='2025-04-17 00:00:00')\n",
    "btc = get_binance_data_by_requests(ticker='BTCUSDT', interval='1s', start='2025-04-14 00:00:00', end='2025-04-17 00:00:00')\n",
    "sol = get_binance_data_by_requests(ticker='SOLUSDT', interval='1s', start='2025-04-14 00:00:00', end='2025-04-17 00:00:00')"
   ]
  },
  {
   "cell_type": "code",
   "execution_count": 3,
   "metadata": {},
   "outputs": [],
   "source": [
    "btc['PAIR'] = \"BTCUSDT\"\n",
    "sol['PAIR'] = \"SOLUSDT\"\n",
    "eth['PAIR'] = \"ETHUSDT\"\n",
    "\n",
    "out_df = pd.concat([btc,sol,eth])\n",
    "\n",
    "out_df.to_parquet(\"data/dataset_1.parquet\")"
   ]
  }
 ],
 "metadata": {
  "kernelspec": {
   "display_name": "base",
   "language": "python",
   "name": "python3"
  },
  "language_info": {
   "codemirror_mode": {
    "name": "ipython",
    "version": 3
   },
   "file_extension": ".py",
   "mimetype": "text/x-python",
   "name": "python",
   "nbconvert_exporter": "python",
   "pygments_lexer": "ipython3",
   "version": "3.12.4"
  }
 },
 "nbformat": 4,
 "nbformat_minor": 2
}
