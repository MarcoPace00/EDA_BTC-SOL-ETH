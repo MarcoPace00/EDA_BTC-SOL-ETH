{
 "cells": [
  {
   "cell_type": "markdown",
   "metadata": {},
   "source": [
    "## Price variations independence test"
   ]
  },
  {
   "cell_type": "markdown",
   "metadata": {},
   "source": [
    "For all the pairs we reject the null hypothesis that the price variations are not indipendent as the p-value of the chi-squared test statistic is zero."
   ]
  },
  {
   "cell_type": "code",
   "execution_count": 4,
   "metadata": {},
   "outputs": [],
   "source": [
    "DATASET_NUM = 0"
   ]
  },
  {
   "cell_type": "code",
   "execution_count": 5,
   "metadata": {},
   "outputs": [],
   "source": [
    "import pandas as pd\n",
    "\n",
    "pair_list = [\"BTCUSDT\",\"SOLUSDT\",\"ETHUSDT\"]\n",
    "dataset = pd.read_parquet(f\"data/dataset_{DATASET_NUM}.parquet\")\n",
    "\n",
    "btc = dataset[dataset.PAIR == \"BTCUSDT\"]\n",
    "eth = dataset[dataset.PAIR == \"ETHUSDT\"]\n",
    "sol = dataset[dataset.PAIR == \"SOLUSDT\"]"
   ]
  },
  {
   "cell_type": "code",
   "execution_count": 14,
   "metadata": {},
   "outputs": [
    {
     "name": "stdout",
     "output_type": "stream",
     "text": [
      "p-value: 0.0\n"
     ]
    }
   ],
   "source": [
    "import numpy as np\n",
    "import pandas as pd\n",
    "from scipy.stats import chi2_contingency\n",
    "\n",
    "# Compute 1-step price differences\n",
    "btc_diff = btc.close.diff().iloc[1:]\n",
    "eth_diff = eth.close.diff().iloc[1:]\n",
    "\n",
    "# Categorize into 'up' (1) and 'down' (0)\n",
    "btc_movement = (btc_diff > 0).astype(int)\n",
    "eth_movement = (eth_diff > 0).astype(int)\n",
    "\n",
    "# Create contingency table\n",
    "table = pd.crosstab(btc_movement, eth_movement)\n",
    "\n",
    "# Chi-square test\n",
    "chi2, p, dof, expected = chi2_contingency(table)\n",
    "\n",
    "print(\"p-value:\", p)\n"
   ]
  },
  {
   "cell_type": "code",
   "execution_count": 15,
   "metadata": {},
   "outputs": [
    {
     "name": "stdout",
     "output_type": "stream",
     "text": [
      "p-value: 0.0\n"
     ]
    }
   ],
   "source": [
    "import numpy as np\n",
    "import pandas as pd\n",
    "from scipy.stats import chi2_contingency\n",
    "\n",
    "# Compute 1-step price differences\n",
    "btc_diff = btc.close.diff().iloc[1:]\n",
    "sol_diff = sol.close.diff().iloc[1:]\n",
    "\n",
    "# Categorize into 'up' (1) and 'down' (0)\n",
    "btc_movement = (btc_diff > 0).astype(int)\n",
    "sol_movement = (sol_diff > 0).astype(int)\n",
    "\n",
    "# Create contingency table\n",
    "table = pd.crosstab(btc_movement, sol_movement)\n",
    "\n",
    "# Chi-square test\n",
    "chi2, p, dof, expected = chi2_contingency(table)\n",
    "\n",
    "print(\"p-value:\", p)"
   ]
  },
  {
   "cell_type": "code",
   "execution_count": 16,
   "metadata": {},
   "outputs": [
    {
     "name": "stdout",
     "output_type": "stream",
     "text": [
      "p-value: 0.0\n"
     ]
    }
   ],
   "source": [
    "import numpy as np\n",
    "import pandas as pd\n",
    "from scipy.stats import chi2_contingency\n",
    "\n",
    "# Compute 1-step price differences\n",
    "eth_diff = eth.close.diff().iloc[1:]\n",
    "sol_diff = sol.close.diff().iloc[1:]\n",
    "\n",
    "# Categorize into 'up' (1) and 'down' (0)\n",
    "eth_movement = (eth_diff > 0).astype(int)\n",
    "sol_movement = (sol_diff > 0).astype(int)\n",
    "\n",
    "# Create contingency table\n",
    "table = pd.crosstab(eth_movement, sol_movement)\n",
    "\n",
    "# Chi-square test\n",
    "chi2, p, dof, expected = chi2_contingency(table)\n",
    "\n",
    "print(\"p-value:\", p)"
   ]
  }
 ],
 "metadata": {
  "kernelspec": {
   "display_name": "base",
   "language": "python",
   "name": "python3"
  },
  "language_info": {
   "codemirror_mode": {
    "name": "ipython",
    "version": 3
   },
   "file_extension": ".py",
   "mimetype": "text/x-python",
   "name": "python",
   "nbconvert_exporter": "python",
   "pygments_lexer": "ipython3",
   "version": "3.12.4"
  }
 },
 "nbformat": 4,
 "nbformat_minor": 2
}
